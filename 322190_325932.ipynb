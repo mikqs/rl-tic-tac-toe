{
 "cells": [
  {
   "cell_type": "markdown",
   "id": "70ebbf09-059d-46da-b87b-25516ca17316",
   "metadata": {},
   "source": [
    "# Artificial Neural Networks (CS-456)\n",
    "## Miniproject 1: Tic Tac Toe\n",
    "- Mickaël Achkar (322190)\n",
    "- Yehya El Hassan (325932)\n"
   ]
  },
  {
   "cell_type": "code",
   "execution_count": 1,
   "id": "072f5258-99aa-4582-9c6c-28f49e65e087",
   "metadata": {},
   "outputs": [],
   "source": [
    "import numpy as np\n",
    "from tic_env import TictactoeEnv, OptimalPlayer"
   ]
  },
  {
   "cell_type": "code",
   "execution_count": null,
   "id": "40a3e835",
   "metadata": {},
   "outputs": [],
   "source": [
    "environment = TictactoeEnv()"
   ]
  },
  {
   "cell_type": "markdown",
   "id": "d5cc958b",
   "metadata": {},
   "source": [
    "Implementing a Tic Tac Toc Player using Q-learning. With that, we will create a Q-table representing all the states and actions possible and we will progressively update the values in the table. The possible number of state is $5478$ and the total possible number of actions at each state is upper bounded by $9$. "
   ]
  },
  {
   "cell_type": "code",
   "execution_count": null,
   "id": "f0ee9a78",
   "metadata": {},
   "outputs": [],
   "source": [
    "#Calculate the total number of states and actions for Tic-Tac-Toe\n",
    "number_of_states = 5478\n",
    "number_of_actions = 9\n",
    "\n",
    "#Initialize the Q-table\n",
    "Q_table = np.zeros((number_of_states, number_of_actions))\n",
    "\n",
    "#RL Hyper-params\n",
    "number_of_episodes = 20000\n",
    "epsilon = 0.1\n",
    "learning_rate = 0.05\n",
    "discount_factor = 0.99"
   ]
  }
 ],
 "metadata": {
  "kernelspec": {
   "display_name": "Python 3 (ipykernel)",
   "language": "python",
   "name": "python3"
  },
  "language_info": {
   "codemirror_mode": {
    "name": "ipython",
    "version": 3
   },
   "file_extension": ".py",
   "mimetype": "text/x-python",
   "name": "python",
   "nbconvert_exporter": "python",
   "pygments_lexer": "ipython3",
   "version": "3.9.12"
  }
 },
 "nbformat": 4,
 "nbformat_minor": 5
}
